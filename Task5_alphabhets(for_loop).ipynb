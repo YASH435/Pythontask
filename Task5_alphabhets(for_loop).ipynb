{
  "nbformat": 4,
  "nbformat_minor": 0,
  "metadata": {
    "colab": {
      "name": "Task5.alphabhets(for loop).ipynb",
      "provenance": []
    },
    "kernelspec": {
      "name": "python3",
      "display_name": "Python 3"
    },
    "language_info": {
      "name": "python"
    }
  },
  "cells": [
    {
      "cell_type": "code",
      "metadata": {
        "colab": {
          "base_uri": "https://localhost:8080/"
        },
        "id": "dY2zc_QB9kRy",
        "outputId": "50f09140-2b70-4423-efa5-421acc10be53"
      },
      "source": [
        "for i in range(1,6):\n",
        "    if i==1:\n",
        "      print(\" ** \")\n",
        "    elif i==2:\n",
        "      print(\"*  *\")\n",
        "    elif i==3:\n",
        "      print(\"****\")\n",
        "    elif i==4:\n",
        "      print(\"*  *\")\n",
        "    elif i==5:\n",
        "      print(\"*  *\")"
      ],
      "execution_count": 27,
      "outputs": [
        {
          "output_type": "stream",
          "text": [
            " ** \n",
            "*  *\n",
            "****\n",
            "*  *\n",
            "*  *\n"
          ],
          "name": "stdout"
        }
      ]
    },
    {
      "cell_type": "code",
      "metadata": {
        "colab": {
          "base_uri": "https://localhost:8080/"
        },
        "id": "hINhvQLs_QW6",
        "outputId": "af4ff6bb-fb20-4124-f74a-cc56ed39453b"
      },
      "source": [
        "for i in range(1,6):\n",
        "    if i==1:\n",
        "      print(\"**** \")\n",
        "    elif i==2:\n",
        "      print(\"*   *\")\n",
        "    elif i==3:\n",
        "      print(\"**** \")\n",
        "    elif i==4:\n",
        "      print(\"*   *\")\n",
        "    elif i==5:\n",
        "      print(\"**** \")\n"
      ],
      "execution_count": 31,
      "outputs": [
        {
          "output_type": "stream",
          "text": [
            "**** \n",
            "*   *\n",
            "**** \n",
            "*   *\n",
            "**** \n"
          ],
          "name": "stdout"
        }
      ]
    },
    {
      "cell_type": "code",
      "metadata": {
        "colab": {
          "base_uri": "https://localhost:8080/"
        },
        "id": "c2KFRv4-_khr",
        "outputId": "1b699179-11e1-4a50-a703-89845e3cd881"
      },
      "source": [
        "for i in range(1,6):\n",
        "    if i==1:\n",
        "      print(\"*****\")\n",
        "    elif i==2:\n",
        "      print(\"*    \")\n",
        "    elif i==3:\n",
        "      print(\"*    \")\n",
        "    elif i==4:\n",
        "      print(\"*    \")\n",
        "    elif i==5:\n",
        "      print(\"*****\")\n"
      ],
      "execution_count": 32,
      "outputs": [
        {
          "output_type": "stream",
          "text": [
            "*****\n",
            "*    \n",
            "*    \n",
            "*    \n",
            "*****\n"
          ],
          "name": "stdout"
        }
      ]
    },
    {
      "cell_type": "code",
      "metadata": {
        "colab": {
          "base_uri": "https://localhost:8080/"
        },
        "id": "1V_589nL_lY_",
        "outputId": "af6834c4-0186-45c2-fff1-c7288be475e2"
      },
      "source": [
        "for i in range(1,6):\n",
        "    if i==1:\n",
        "      print(\"*****\")\n",
        "    elif i==2:\n",
        "      print(\"  * *\")\n",
        "    elif i==3:\n",
        "      print(\"  * *\")\n",
        "    elif i==4:\n",
        "      print(\"  * *\")\n",
        "    elif i==5:\n",
        "      print(\"*****\")"
      ],
      "execution_count": 36,
      "outputs": [
        {
          "output_type": "stream",
          "text": [
            "*****\n",
            "  * *\n",
            "  * *\n",
            "  * *\n",
            "*****\n"
          ],
          "name": "stdout"
        }
      ]
    },
    {
      "cell_type": "code",
      "metadata": {
        "colab": {
          "base_uri": "https://localhost:8080/"
        },
        "id": "TkmXI7pc_mAL",
        "outputId": "18632624-f36f-4249-aee4-00a47411208b"
      },
      "source": [
        "for i in range(1,6):\n",
        "    if i==1:\n",
        "      print(\"*****\")\n",
        "    elif i==2:\n",
        "      print(\"*    \")\n",
        "    elif i==3:\n",
        "      print(\"*****\")\n",
        "    elif i==4:\n",
        "      print(\"*    \")\n",
        "    elif i==5:\n",
        "      print(\"*****\")"
      ],
      "execution_count": 37,
      "outputs": [
        {
          "output_type": "stream",
          "text": [
            "*****\n",
            "*    \n",
            "*****\n",
            "*    \n",
            "*****\n"
          ],
          "name": "stdout"
        }
      ]
    },
    {
      "cell_type": "code",
      "metadata": {
        "colab": {
          "base_uri": "https://localhost:8080/"
        },
        "id": "oPGjzNl7_mUv",
        "outputId": "a188528c-49c5-490d-d06b-0c598599c4cf"
      },
      "source": [
        "for i in range(1,6):\n",
        "    if i==1:\n",
        "      print(\"*****\")\n",
        "    elif i==2:\n",
        "      print(\"*    \")\n",
        "    elif i==3:\n",
        "      print(\"*****\")\n",
        "    elif i==4:\n",
        "      print(\"*    \")\n",
        "    elif i==5:\n",
        "      print(\"*    \")"
      ],
      "execution_count": 38,
      "outputs": [
        {
          "output_type": "stream",
          "text": [
            "*****\n",
            "*    \n",
            "*****\n",
            "*    \n",
            "*    \n"
          ],
          "name": "stdout"
        }
      ]
    },
    {
      "cell_type": "code",
      "metadata": {
        "colab": {
          "base_uri": "https://localhost:8080/"
        },
        "id": "c_kO0Glv_moY",
        "outputId": "d8cac325-4e9c-4677-b443-065bc501f31d"
      },
      "source": [
        "for i in range(1,6):\n",
        "    if i==1:\n",
        "      print(\"*****\")\n",
        "    elif i==2:\n",
        "      print(\"*    \")\n",
        "    elif i==3:\n",
        "      print(\"*  **\")\n",
        "    elif i==4:\n",
        "      print(\"*   *\")\n",
        "    elif i==5:\n",
        "      print(\"*****\")\n"
      ],
      "execution_count": 39,
      "outputs": [
        {
          "output_type": "stream",
          "text": [
            "*****\n",
            "*    \n",
            "*  **\n",
            "*   *\n",
            "*****\n"
          ],
          "name": "stdout"
        }
      ]
    },
    {
      "cell_type": "code",
      "metadata": {
        "colab": {
          "base_uri": "https://localhost:8080/"
        },
        "id": "YO2gFXJd_nON",
        "outputId": "e69030e2-77e0-4ed4-b133-1076918fdd53"
      },
      "source": [
        "for i in range(1,6):\n",
        "    if i==1:\n",
        "      print(\"*   *\")\n",
        "    elif i==2:\n",
        "      print(\"*   *\")\n",
        "    elif i==3:\n",
        "      print(\"*****\")\n",
        "    elif i==4:\n",
        "      print(\"*   *\")\n",
        "    elif i==5:\n",
        "      print(\"*   *\")"
      ],
      "execution_count": 42,
      "outputs": [
        {
          "output_type": "stream",
          "text": [
            "*   *\n",
            "*   *\n",
            "*****\n",
            "*   *\n",
            "*   *\n"
          ],
          "name": "stdout"
        }
      ]
    },
    {
      "cell_type": "code",
      "metadata": {
        "colab": {
          "base_uri": "https://localhost:8080/"
        },
        "id": "HfVbUCFM_n5k",
        "outputId": "e20ffae6-2ce3-4732-b479-43bcd4389f6e"
      },
      "source": [
        "for i in range(1,6):\n",
        "    if i==1:\n",
        "      print(\"*****\")\n",
        "    elif i==2:\n",
        "      print(\"  *  \")\n",
        "    elif i==3:\n",
        "      print(\"  *  \")\n",
        "    elif i==4:\n",
        "      print(\"  *  \")\n",
        "    elif i==5:\n",
        "      print(\"*****\")"
      ],
      "execution_count": 43,
      "outputs": [
        {
          "output_type": "stream",
          "text": [
            "*****\n",
            "  *  \n",
            "  *  \n",
            "  *  \n",
            "*****\n"
          ],
          "name": "stdout"
        }
      ]
    },
    {
      "cell_type": "code",
      "metadata": {
        "colab": {
          "base_uri": "https://localhost:8080/"
        },
        "id": "qblbUG4F_oag",
        "outputId": "e2741377-eecb-40ae-b2ce-65d4ae23d62f"
      },
      "source": [
        "for i in range(1,6):\n",
        "    if i==1:\n",
        "      print(\"*****\")\n",
        "    elif i==2:\n",
        "      print(\"  *  \")\n",
        "    elif i==3: \n",
        "      print(\"  *  \")\n",
        "    elif i==4:\n",
        "      print(\"  *  \")\n",
        "    elif i==5:\n",
        "      print(\"***  \")"
      ],
      "execution_count": 47,
      "outputs": [
        {
          "output_type": "stream",
          "text": [
            "*****\n",
            "  *  \n",
            "  *  \n",
            "  *  \n",
            "***  \n"
          ],
          "name": "stdout"
        }
      ]
    },
    {
      "cell_type": "code",
      "metadata": {
        "colab": {
          "base_uri": "https://localhost:8080/"
        },
        "id": "SyZ7-iwp_o5s",
        "outputId": "5f74b37a-6413-4d2c-b471-0db942afd0f9"
      },
      "source": [
        "for i in range(1,6):\n",
        "    if i==1:\n",
        "      print(\"*  * \")\n",
        "    elif i==2:\n",
        "      print(\"* *  \")\n",
        "    elif i==3:\n",
        "      print(\"**   \")\n",
        "    elif i==4:\n",
        "      print(\"* *  \")\n",
        "    elif i==5:\n",
        "      print(\"*  * \")"
      ],
      "execution_count": 52,
      "outputs": [
        {
          "output_type": "stream",
          "text": [
            "*  * \n",
            "* *  \n",
            "**   \n",
            "* *  \n",
            "*  * \n"
          ],
          "name": "stdout"
        }
      ]
    },
    {
      "cell_type": "code",
      "metadata": {
        "colab": {
          "base_uri": "https://localhost:8080/"
        },
        "id": "pcbCip-5GsC3",
        "outputId": "66038c30-de65-4cfd-85f8-276875210941"
      },
      "source": [
        "for i in range(1,6):\n",
        "    if i==1:\n",
        "      print(\"*    \")\n",
        "    elif i==2:\n",
        "      print(\"*    \")\n",
        "    elif i==3:\n",
        "      print(\"*    \")\n",
        "    elif i==4:\n",
        "      print(\"*    \")\n",
        "    elif i==5:\n",
        "      print(\"*****\")"
      ],
      "execution_count": 53,
      "outputs": [
        {
          "output_type": "stream",
          "text": [
            "*    \n",
            "*    \n",
            "*    \n",
            "*    \n",
            "*****\n"
          ],
          "name": "stdout"
        }
      ]
    },
    {
      "cell_type": "code",
      "metadata": {
        "colab": {
          "base_uri": "https://localhost:8080/"
        },
        "id": "aYHqoyQrG7Xz",
        "outputId": "7377cd2a-c377-449e-fe43-20583f815b00"
      },
      "source": [
        "for i in range(1,6):\n",
        "    if i==1:\n",
        "      print(\"*   *\")\n",
        "    elif i==2:\n",
        "      print(\"* * *\")\n",
        "    elif i==3:\n",
        "      print(\"*   *\")\n",
        "    elif i==4:\n",
        "      print(\"*   *\")\n",
        "    elif i==5:\n",
        "      print(\"*   *\")"
      ],
      "execution_count": 55,
      "outputs": [
        {
          "output_type": "stream",
          "text": [
            "*   *\n",
            "* * *\n",
            "*   *\n",
            "*   *\n",
            "*   *\n"
          ],
          "name": "stdout"
        }
      ]
    },
    {
      "cell_type": "code",
      "metadata": {
        "colab": {
          "base_uri": "https://localhost:8080/"
        },
        "id": "O2vzxqM7HI7Z",
        "outputId": "f0c62345-2a6f-44c3-ffc2-09d0f29d983c"
      },
      "source": [
        "for i in range(1,6):\n",
        "    if i==1:\n",
        "      print(\"*   *\")\n",
        "    elif i==2:\n",
        "      print(\"**  *\")\n",
        "    elif i==3:\n",
        "      print(\"* * *\")\n",
        "    elif i==4:\n",
        "      print(\"*  **\")\n",
        "    elif i==5:\n",
        "      print(\"*   *\")"
      ],
      "execution_count": 57,
      "outputs": [
        {
          "output_type": "stream",
          "text": [
            "*   *\n",
            "**  *\n",
            "* * *\n",
            "*  **\n",
            "*   *\n"
          ],
          "name": "stdout"
        }
      ]
    },
    {
      "cell_type": "code",
      "metadata": {
        "colab": {
          "base_uri": "https://localhost:8080/"
        },
        "id": "GBRZqMKOHQ6d",
        "outputId": "da56c5f9-fb91-4331-b00d-a07dfa65d84a"
      },
      "source": [
        "for i in range(1,6):\n",
        "    if i==1:\n",
        "      print(\"*****\")\n",
        "    elif i==2:\n",
        "      print(\"*   *\")\n",
        "    elif i==3:\n",
        "      print(\"*   *\")\n",
        "    elif i==4:\n",
        "      print(\"*   *\")\n",
        "    elif i==5:\n",
        "      print(\"*****\")"
      ],
      "execution_count": 58,
      "outputs": [
        {
          "output_type": "stream",
          "text": [
            "*****\n",
            "*   *\n",
            "*   *\n",
            "*   *\n",
            "*****\n"
          ],
          "name": "stdout"
        }
      ]
    },
    {
      "cell_type": "code",
      "metadata": {
        "colab": {
          "base_uri": "https://localhost:8080/"
        },
        "id": "uuAfWWxiHalm",
        "outputId": "77f6a4a8-9b06-432e-d035-3cc2c71593fd"
      },
      "source": [
        "for i in range(1,6):\n",
        "    if i==1:\n",
        "      print(\"*****\")\n",
        "    elif i==2:\n",
        "      print(\"*   *\")\n",
        "    elif i==3:\n",
        "      print(\"*****\")\n",
        "    elif i==4:\n",
        "      print(\"*    \")\n",
        "    elif i==5:\n",
        "      print(\"*    \")"
      ],
      "execution_count": 59,
      "outputs": [
        {
          "output_type": "stream",
          "text": [
            "*****\n",
            "*   *\n",
            "*****\n",
            "*    \n",
            "*    \n"
          ],
          "name": "stdout"
        }
      ]
    },
    {
      "cell_type": "code",
      "metadata": {
        "colab": {
          "base_uri": "https://localhost:8080/"
        },
        "id": "0NVrdFJbHfgd",
        "outputId": "60644bcb-0482-41c8-e31b-0c4ef19a3ec4"
      },
      "source": [
        "for i in range(1,6):\n",
        "    if i==1:\n",
        "      print(\"*****\")\n",
        "    elif i==2:\n",
        "      print(\"*   *\")\n",
        "    elif i==3:\n",
        "      print(\"*   *\")\n",
        "    elif i==4:\n",
        "      print(\"*  ***\")\n",
        "    elif i==5:\n",
        "      print(\"*****\")"
      ],
      "execution_count": 66,
      "outputs": [
        {
          "output_type": "stream",
          "text": [
            "*****\n",
            "*   *\n",
            "*   *\n",
            "*  ***\n",
            "*****\n"
          ],
          "name": "stdout"
        }
      ]
    },
    {
      "cell_type": "code",
      "metadata": {
        "colab": {
          "base_uri": "https://localhost:8080/"
        },
        "id": "xPsw0fbpHp0K",
        "outputId": "be4dc9bc-b6be-4b51-8835-9bdd6cb291f2"
      },
      "source": [
        "for i in range(1,6):\n",
        "    if i==1:\n",
        "      print(\"*****\")\n",
        "    elif i==2:\n",
        "      print(\"*   *\")\n",
        "    elif i==3:\n",
        "      print(\"*****\")\n",
        "    elif i==4:\n",
        "      print(\"* *  \")\n",
        "    elif i==5:\n",
        "      print(\"*   *\")"
      ],
      "execution_count": 67,
      "outputs": [
        {
          "output_type": "stream",
          "text": [
            "*****\n",
            "*   *\n",
            "*****\n",
            "* *  \n",
            "*   *\n"
          ],
          "name": "stdout"
        }
      ]
    },
    {
      "cell_type": "code",
      "metadata": {
        "colab": {
          "base_uri": "https://localhost:8080/"
        },
        "id": "rQsqwEdtIFWq",
        "outputId": "84308489-f38f-440c-ef8d-e67c071205f7"
      },
      "source": [
        "for i in range(1,6):\n",
        "    if i==1:\n",
        "      print(\"*****\")\n",
        "    elif i==2:\n",
        "      print(\"*    \")\n",
        "    elif i==3:\n",
        "      print(\"*****\")\n",
        "    elif i==4:\n",
        "      print(\"    *\")\n",
        "    elif i==5:\n",
        "      print(\"*****\")"
      ],
      "execution_count": 68,
      "outputs": [
        {
          "output_type": "stream",
          "text": [
            "*****\n",
            "*    \n",
            "*****\n",
            "    *\n",
            "*****\n"
          ],
          "name": "stdout"
        }
      ]
    },
    {
      "cell_type": "code",
      "metadata": {
        "colab": {
          "base_uri": "https://localhost:8080/"
        },
        "id": "cEeiHMpjIN6-",
        "outputId": "60702fd3-bdcb-435e-c809-3581c50c516a"
      },
      "source": [
        "for i in range(1,6):\n",
        "    if i==1:\n",
        "      print(\"*****\")\n",
        "    elif i==2:\n",
        "      print(\"  *  \")\n",
        "    elif i==3:\n",
        "      print(\"  *  \")\n",
        "    elif i==4:\n",
        "      print(\"  *  \")\n",
        "    elif i==5:\n",
        "      print(\"  *  \")"
      ],
      "execution_count": 69,
      "outputs": [
        {
          "output_type": "stream",
          "text": [
            "*****\n",
            "  *  \n",
            "  *  \n",
            "  *  \n",
            "  *  \n"
          ],
          "name": "stdout"
        }
      ]
    },
    {
      "cell_type": "code",
      "metadata": {
        "colab": {
          "base_uri": "https://localhost:8080/"
        },
        "id": "Db6Sf26lIUlH",
        "outputId": "4528ebdf-3105-4682-dd2b-6ebe04fcf7ca"
      },
      "source": [
        "for i in range(1,6):\n",
        "    if i==1:\n",
        "      print(\"*   *\")\n",
        "    elif i==2:\n",
        "      print(\"*   *\")\n",
        "    elif i==3:\n",
        "      print(\"*   *\")\n",
        "    elif i==4:\n",
        "      print(\"*   *\")\n",
        "    elif i==5:\n",
        "      print(\"*****\")"
      ],
      "execution_count": 73,
      "outputs": [
        {
          "output_type": "stream",
          "text": [
            "*   *\n",
            "*   *\n",
            "*   *\n",
            "*   *\n",
            "*****\n"
          ],
          "name": "stdout"
        }
      ]
    },
    {
      "cell_type": "code",
      "metadata": {
        "colab": {
          "base_uri": "https://localhost:8080/"
        },
        "id": "bDTKnB5iIb3g",
        "outputId": "166f0cb9-fd95-4242-9b1e-4554b275b03d"
      },
      "source": [
        "for i in range(1,6):\n",
        "    if i==1:\n",
        "      print(\"*   *\")\n",
        "    elif i==2:\n",
        "      print(\"*   *\")\n",
        "    elif i==3:\n",
        "      print(\"*   *\")\n",
        "    elif i==4:\n",
        "      print(\" * * \")\n",
        "    elif i==5:\n",
        "      print(\"  *  \")"
      ],
      "execution_count": 75,
      "outputs": [
        {
          "output_type": "stream",
          "text": [
            "*   *\n",
            "*   *\n",
            "*   *\n",
            " * * \n",
            "  *  \n"
          ],
          "name": "stdout"
        }
      ]
    },
    {
      "cell_type": "code",
      "metadata": {
        "colab": {
          "base_uri": "https://localhost:8080/"
        },
        "id": "pViIldRuIkdZ",
        "outputId": "4f86b251-72b7-4cc9-e0ce-926dedf8269d"
      },
      "source": [
        "for i in range(1,6):\n",
        "    if i==1:\n",
        "      print(\"*   *\")\n",
        "    elif i==2:\n",
        "      print(\"*   *\")\n",
        "    elif i==3:\n",
        "      print(\"*   *\")\n",
        "    elif i==4:\n",
        "      print(\"* * *\")\n",
        "    elif i==5:\n",
        "      print(\"*   *\")"
      ],
      "execution_count": 77,
      "outputs": [
        {
          "output_type": "stream",
          "text": [
            "*   *\n",
            "*   *\n",
            "*   *\n",
            "* * *\n",
            "*   *\n"
          ],
          "name": "stdout"
        }
      ]
    },
    {
      "cell_type": "code",
      "metadata": {
        "colab": {
          "base_uri": "https://localhost:8080/"
        },
        "id": "IXcUA0D7Is6b",
        "outputId": "c32776fd-7780-4a2c-8642-38103e17213d"
      },
      "source": [
        "for i in range(1,6):\n",
        "    if i==1:\n",
        "      print(\"*   *\")\n",
        "    elif i==2:\n",
        "      print(\" * * \")\n",
        "    elif i==3:\n",
        "      print(\"  *  \")\n",
        "    elif i==4:\n",
        "      print(\" * * \")\n",
        "    elif i==5:\n",
        "      print(\"*   *\")"
      ],
      "execution_count": 80,
      "outputs": [
        {
          "output_type": "stream",
          "text": [
            "*   *\n",
            " * * \n",
            "  *  \n",
            " * * \n",
            "*   *\n"
          ],
          "name": "stdout"
        }
      ]
    },
    {
      "cell_type": "code",
      "metadata": {
        "colab": {
          "base_uri": "https://localhost:8080/"
        },
        "id": "6jKx_wz-I2Uw",
        "outputId": "d6d73036-3e5b-46eb-a3c6-acc4d1317fa5"
      },
      "source": [
        "for i in range(1,6):\n",
        "    if i==1:\n",
        "      print(\"*   *\")\n",
        "    elif i==2:\n",
        "      print(\" * * \")\n",
        "    elif i==3:\n",
        "      print(\"  *  \")\n",
        "    elif i==4:\n",
        "      print(\"  *  \")\n",
        "    elif i==5:\n",
        "      print(\"  *  \")"
      ],
      "execution_count": 81,
      "outputs": [
        {
          "output_type": "stream",
          "text": [
            "*   *\n",
            " * * \n",
            "  *  \n",
            "  *  \n",
            "  *  \n"
          ],
          "name": "stdout"
        }
      ]
    },
    {
      "cell_type": "code",
      "metadata": {
        "colab": {
          "base_uri": "https://localhost:8080/"
        },
        "id": "Bc4ynhugJC-F",
        "outputId": "3cde2a3b-d172-47b5-8d2a-1b9e43449fea"
      },
      "source": [
        "for i in range(1,6):\n",
        "    if i==1:\n",
        "      print(\"*****\")\n",
        "    elif i==2:\n",
        "      print(\"   * \")\n",
        "    elif i==3:\n",
        "      print(\"  *  \")\n",
        "    elif i==4:\n",
        "      print(\" *   \")\n",
        "    elif i==5:\n",
        "      print(\"*****\")"
      ],
      "execution_count": 84,
      "outputs": [
        {
          "output_type": "stream",
          "text": [
            "*****\n",
            "   * \n",
            "  *  \n",
            " *   \n",
            "*****\n"
          ],
          "name": "stdout"
        }
      ]
    },
    {
      "cell_type": "code",
      "metadata": {
        "id": "2qM1Nik7JIjq"
      },
      "source": [
        ""
      ],
      "execution_count": null,
      "outputs": []
    }
  ]
}