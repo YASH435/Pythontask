{
  "nbformat": 4,
  "nbformat_minor": 0,
  "metadata": {
    "colab": {
      "name": "tak4.word(while loop).ipynb",
      "provenance": []
    },
    "kernelspec": {
      "name": "python3",
      "display_name": "Python 3"
    },
    "language_info": {
      "name": "python"
    }
  },
  "cells": [
    {
      "cell_type": "code",
      "metadata": {
        "colab": {
          "base_uri": "https://localhost:8080/"
        },
        "id": "4yvdmHtxcolE",
        "outputId": "ee6d8022-e867-4294-fab3-be9c7a356cf6"
      },
      "source": [
        "x=1\n",
        "while x<6:\n",
        "     if x==1:\n",
        "         print(\"*   * ***** ***** *   * \")\n",
        "     elif x==2:\n",
        "         print(\"*   * *   * *     *   * \")\n",
        "     elif x==3:\n",
        "         print(\" * *  ***** ***** ***** \")\n",
        "     elif x==4:\n",
        "         print(\"  *   *   *     * *   * \")\n",
        "     elif x==5:\n",
        "         print(\"  *   *   * ***** *   * \")\n",
        "     x=x+1   "
      ],
      "execution_count": 4,
      "outputs": [
        {
          "output_type": "stream",
          "text": [
            "*   * ***** ***** *   * \n",
            "*   * *   * *     *   * \n",
            " * *  ***** ***** ***** \n",
            "  *   *   *     * *   * \n",
            "  *   *   * ***** *   * \n"
          ],
          "name": "stdout"
        }
      ]
    }
  ]
}