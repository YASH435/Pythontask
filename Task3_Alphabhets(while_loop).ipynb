{
  "nbformat": 4,
  "nbformat_minor": 0,
  "metadata": {
    "colab": {
      "name": "Task3|Alphabhets(while.loop).ipynb",
      "provenance": []
    },
    "kernelspec": {
      "name": "python3",
      "display_name": "Python 3"
    },
    "language_info": {
      "name": "python"
    }
  },
  "cells": [
    {
      "cell_type": "code",
      "metadata": {
        "colab": {
          "base_uri": "https://localhost:8080/"
        },
        "id": "XpH1QD_VFrxu",
        "outputId": "69adf3aa-4eae-4a88-aa74-7de0a03f70fb"
      },
      "source": [
        "x=1\n",
        "while x<6:\n",
        "     if x==1:\n",
        "         print(\"*****\")\n",
        "     elif x==2:\n",
        "         print(\"*   *\")\n",
        "     elif x==3:\n",
        "         print(\"*****\")\n",
        "     elif x==4:\n",
        "         print(\"*   *\")\n",
        "     elif x==5:\n",
        "         print(\"*   *\")\n",
        "     x=x+1    \n"
      ],
      "execution_count": 96,
      "outputs": [
        {
          "output_type": "stream",
          "text": [
            "*****\n",
            "*   *\n",
            "*****\n",
            "*   *\n",
            "*   *\n"
          ],
          "name": "stdout"
        }
      ]
    },
    {
      "cell_type": "code",
      "metadata": {
        "colab": {
          "base_uri": "https://localhost:8080/"
        },
        "id": "aB-ZQ4CgGiT7",
        "outputId": "7ab0f512-a37b-485f-9366-c404bede1f76"
      },
      "source": [
        "x=1\n",
        "while x<6:\n",
        "     if x==1:\n",
        "         print(\"**** \")\n",
        "     elif x==2:\n",
        "         print(\"*   *\")\n",
        "     elif x==3:\n",
        "         print(\"**** \")\n",
        "     elif x==4:\n",
        "         print(\"*   *\")\n",
        "     elif x==5:\n",
        "         print(\"**** \")\n",
        "     x=x+1  "
      ],
      "execution_count": 116,
      "outputs": [
        {
          "output_type": "stream",
          "text": [
            "**** \n",
            "*   *\n",
            "**** \n",
            "*   *\n",
            "**** \n"
          ],
          "name": "stdout"
        }
      ]
    },
    {
      "cell_type": "code",
      "metadata": {
        "colab": {
          "base_uri": "https://localhost:8080/"
        },
        "id": "uCL0QiNVHB4W",
        "outputId": "c2eea9a7-9d06-4f92-a0e3-b90e9370b262"
      },
      "source": [
        "x=1\n",
        "while x<6:\n",
        "     if x==1:\n",
        "         print(\"*****\")\n",
        "     elif x==2:\n",
        "         print(\"*    \")\n",
        "     elif x==3:\n",
        "         print(\"*    \")\n",
        "     elif x==4:\n",
        "         print(\"*    \")\n",
        "     elif x==5:\n",
        "         print(\"*****\")\n",
        "     x=x+1"
      ],
      "execution_count": 115,
      "outputs": [
        {
          "output_type": "stream",
          "text": [
            "*****\n",
            "*    \n",
            "*    \n",
            "*    \n",
            "*****\n"
          ],
          "name": "stdout"
        }
      ]
    },
    {
      "cell_type": "code",
      "metadata": {
        "colab": {
          "base_uri": "https://localhost:8080/"
        },
        "id": "WL38MZeLHyqv",
        "outputId": "7c46c2ee-dd7e-46c7-d52a-64e9d16ab32e"
      },
      "source": [
        "x=1\n",
        "while x<6:\n",
        "     if x==1:\n",
        "         print(\"*****\")\n",
        "     elif x==2:\n",
        "         print(\"  * *\")\n",
        "     elif x==3:\n",
        "         print(\"  * *\")\n",
        "     elif x==4:\n",
        "         print(\"  * *\")\n",
        "     elif x==5:\n",
        "         print(\"*****\")\n",
        "     x=x+1"
      ],
      "execution_count": 99,
      "outputs": [
        {
          "output_type": "stream",
          "text": [
            "*****\n",
            "  * *\n",
            "  * *\n",
            "  * *\n",
            "*****\n"
          ],
          "name": "stdout"
        }
      ]
    },
    {
      "cell_type": "code",
      "metadata": {
        "colab": {
          "base_uri": "https://localhost:8080/"
        },
        "id": "dhuFn1QzH2ff",
        "outputId": "bf02ebbb-b93d-48a1-bb64-bbd14b1e044f"
      },
      "source": [
        "x=1\n",
        "while x<6:\n",
        "     if x==1:\n",
        "         print(\"*****\")\n",
        "     elif x==2:\n",
        "         print(\"*    \")\n",
        "     elif x==3:\n",
        "         print(\"*****\")\n",
        "     elif x==4:\n",
        "         print(\"*    \")\n",
        "     elif x==5:\n",
        "         print(\"*****\")\n",
        "     x=x+1"
      ],
      "execution_count": 114,
      "outputs": [
        {
          "output_type": "stream",
          "text": [
            "*****\n",
            "*    \n",
            "*****\n",
            "*    \n",
            "*****\n"
          ],
          "name": "stdout"
        }
      ]
    },
    {
      "cell_type": "code",
      "metadata": {
        "colab": {
          "base_uri": "https://localhost:8080/"
        },
        "id": "3wsWbdbXITuw",
        "outputId": "a784f55d-c60a-4ad7-b600-30a17fbe7dd3"
      },
      "source": [
        "x=1\n",
        "while x<6:\n",
        "     if x==1:\n",
        "         print(\"*****\")\n",
        "     elif x==2:\n",
        "         print(\"*    \")\n",
        "     elif x==3:\n",
        "         print(\"*****\")\n",
        "     elif x==4:\n",
        "         print(\"*    \")\n",
        "     elif x==5:\n",
        "         print(\"*    \")\n",
        "     x=x+1"
      ],
      "execution_count": 102,
      "outputs": [
        {
          "output_type": "stream",
          "text": [
            "*****\n",
            "*    \n",
            "*****\n",
            "*    \n",
            "*    \n"
          ],
          "name": "stdout"
        }
      ]
    },
    {
      "cell_type": "code",
      "metadata": {
        "colab": {
          "base_uri": "https://localhost:8080/"
        },
        "id": "PieIvnCrIh1u",
        "outputId": "065da00b-6e82-42d6-d2a6-5c4ee31fb8a3"
      },
      "source": [
        "x=1\n",
        "while x<6:\n",
        "     if x==1:\n",
        "         print(\"*****\")\n",
        "     elif x==2:\n",
        "         print(\"*    \")\n",
        "     elif x==3:\n",
        "         print(\"*  **\")\n",
        "     elif x==4:\n",
        "         print(\"*   *\")\n",
        "     elif x==5:\n",
        "         print(\"*****\")\n",
        "     x=x+1"
      ],
      "execution_count": 113,
      "outputs": [
        {
          "output_type": "stream",
          "text": [
            "*****\n",
            "*    \n",
            "*  **\n",
            "*   *\n",
            "*****\n"
          ],
          "name": "stdout"
        }
      ]
    },
    {
      "cell_type": "code",
      "metadata": {
        "colab": {
          "base_uri": "https://localhost:8080/"
        },
        "id": "biTPfKOAIsCh",
        "outputId": "8ec59fe6-417d-48d0-91fc-2236c30d3796"
      },
      "source": [
        "x=1\n",
        "while x<6:\n",
        "     if x==1:\n",
        "         print(\"*   *\")\n",
        "     elif x==2:\n",
        "         print(\"*   *\")\n",
        "     elif x==3:\n",
        "         print(\"*****\")\n",
        "     elif x==4:\n",
        "         print(\"*   *\")\n",
        "     elif x==5:\n",
        "         print(\"*   *\")\n",
        "     x=x+1"
      ],
      "execution_count": 117,
      "outputs": [
        {
          "output_type": "stream",
          "text": [
            "*   *\n",
            "*   *\n",
            "*****\n",
            "*   *\n",
            "*   *\n"
          ],
          "name": "stdout"
        }
      ]
    },
    {
      "cell_type": "code",
      "metadata": {
        "colab": {
          "base_uri": "https://localhost:8080/"
        },
        "id": "UeGhCrrfJBOy",
        "outputId": "72d74991-1f2a-4676-bd25-ddbea7bd2416"
      },
      "source": [
        "x=1\n",
        "while x<6:\n",
        "     if x==1:\n",
        "         print(\"*****\")\n",
        "     elif x==2:\n",
        "         print(\"  *  \")\n",
        "     elif x==3:\n",
        "         print(\"  *  \")\n",
        "     elif x==4:\n",
        "         print(\"  *  \")\n",
        "     elif x==5:\n",
        "         print(\"*****\")\n",
        "     x=x+1"
      ],
      "execution_count": 31,
      "outputs": [
        {
          "output_type": "stream",
          "text": [
            "*****\n",
            "  *  \n",
            "  *  \n",
            "  *  \n",
            "*****\n"
          ],
          "name": "stdout"
        }
      ]
    },
    {
      "cell_type": "code",
      "metadata": {
        "colab": {
          "base_uri": "https://localhost:8080/"
        },
        "id": "KT5lSmMoJFVy",
        "outputId": "edaea190-1389-4795-8d3e-c7795f03689f"
      },
      "source": [
        "x=1\n",
        "while x<6:\n",
        "     if x==1:\n",
        "         print(\"*****\")\n",
        "     elif x==2:\n",
        "         print(\"  *  \")\n",
        "     elif x==3:\n",
        "         print(\"  *  \")\n",
        "     elif x==4:\n",
        "         print(\"  *  \")\n",
        "     elif x==5:\n",
        "         print(\"***  \")\n",
        "     x=x+1"
      ],
      "execution_count": 112,
      "outputs": [
        {
          "output_type": "stream",
          "text": [
            "*****\n",
            "  *  \n",
            "  *  \n",
            "  *  \n",
            "***  \n"
          ],
          "name": "stdout"
        }
      ]
    },
    {
      "cell_type": "code",
      "metadata": {
        "colab": {
          "base_uri": "https://localhost:8080/"
        },
        "id": "Wr4msQRhJSU0",
        "outputId": "22f91383-03c5-4919-813e-65718f78e0b7"
      },
      "source": [
        "x=1\n",
        "while x<6:\n",
        "     if x==1:\n",
        "         print(\"*  * \")\n",
        "     elif x==2:\n",
        "         print(\"* *  \")\n",
        "     elif x==3:\n",
        "         print(\"**   \")\n",
        "     elif x==4:\n",
        "         print(\"* *  \")\n",
        "     elif x==5:\n",
        "         print(\"*  * \")\n",
        "     x=x+1"
      ],
      "execution_count": 118,
      "outputs": [
        {
          "output_type": "stream",
          "text": [
            "*  * \n",
            "* *  \n",
            "**   \n",
            "* *  \n",
            "*  * \n"
          ],
          "name": "stdout"
        }
      ]
    },
    {
      "cell_type": "code",
      "metadata": {
        "colab": {
          "base_uri": "https://localhost:8080/"
        },
        "id": "UZlQdzkuJ3cV",
        "outputId": "ff3df809-d673-487d-ce6b-fcd15f572282"
      },
      "source": [
        "x=1\n",
        "while x<6:\n",
        "     if x==1:\n",
        "         print(\"*    \")\n",
        "     elif x==2:\n",
        "         print(\"*    \")\n",
        "     elif x==3: \n",
        "         print(\"*    \")\n",
        "     elif x==4:\n",
        "         print(\"*    \")\n",
        "     elif x==5:\n",
        "         print(\"*****\")\n",
        "     x=x+1"
      ],
      "execution_count": 111,
      "outputs": [
        {
          "output_type": "stream",
          "text": [
            "*    \n",
            "*    \n",
            "*    \n",
            "*    \n",
            "*****\n"
          ],
          "name": "stdout"
        }
      ]
    },
    {
      "cell_type": "code",
      "metadata": {
        "colab": {
          "base_uri": "https://localhost:8080/"
        },
        "id": "4PdNbtxJJ9DN",
        "outputId": "551c43cd-3480-4871-fa70-39c76a3fe3d7"
      },
      "source": [
        "x=1\n",
        "while x<6:\n",
        "     if x==1:\n",
        "         print(\"*   *\")\n",
        "     elif x==2:\n",
        "         print(\"* * *\")\n",
        "     elif x==3:\n",
        "         print(\"*   *\")\n",
        "     elif x==4: \n",
        "         print(\"*   *\")\n",
        "     elif x==5:\n",
        "         print(\"*   *\")\n",
        "     x=x+1"
      ],
      "execution_count": 42,
      "outputs": [
        {
          "output_type": "stream",
          "text": [
            "*   *\n",
            "* * *\n",
            "*   *\n",
            "*   *\n",
            "*   *\n"
          ],
          "name": "stdout"
        }
      ]
    },
    {
      "cell_type": "code",
      "metadata": {
        "colab": {
          "base_uri": "https://localhost:8080/"
        },
        "id": "7Oc5aeE2KO-8",
        "outputId": "4a32fc98-1fe3-4a41-acae-2d4ee0cac5f3"
      },
      "source": [
        "x=1\n",
        "while x<6:\n",
        "     if x==1:\n",
        "         print(\"*   *\")\n",
        "     elif x==2:\n",
        "         print(\"**  *\")\n",
        "     elif x==3:\n",
        "         print(\"* * *\")\n",
        "     elif x==4:\n",
        "         print(\"*  **\")\n",
        "     elif x==5:\n",
        "         print(\"*   *\")\n",
        "     x=x+1"
      ],
      "execution_count": 47,
      "outputs": [
        {
          "output_type": "stream",
          "text": [
            "*   *\n",
            "**  *\n",
            "* * *\n",
            "*  **\n",
            "*   *\n"
          ],
          "name": "stdout"
        }
      ]
    },
    {
      "cell_type": "code",
      "metadata": {
        "colab": {
          "base_uri": "https://localhost:8080/"
        },
        "id": "Osg77ss3LVZT",
        "outputId": "355b4445-5c4f-4f0a-84f8-3176e1268b55"
      },
      "source": [
        "x=1\n",
        "while x<6:\n",
        "     if x==1:\n",
        "         print(\"*****\")\n",
        "     elif x==2:\n",
        "         print(\"*   *\")\n",
        "     elif x==3:\n",
        "         print(\"*   *\")\n",
        "     elif x==4:\n",
        "         print(\"*   *\")\n",
        "     elif x==5:\n",
        "         print(\"*****\")\n",
        "     x=x+1"
      ],
      "execution_count": 119,
      "outputs": [
        {
          "output_type": "stream",
          "text": [
            "*****\n",
            "*   *\n",
            "*   *\n",
            "*   *\n",
            "*****\n"
          ],
          "name": "stdout"
        }
      ]
    },
    {
      "cell_type": "code",
      "metadata": {
        "colab": {
          "base_uri": "https://localhost:8080/"
        },
        "id": "NENaoMF8LWSd",
        "outputId": "96c80c45-9e30-44bc-818c-2590ff976065"
      },
      "source": [
        "x=1\n",
        "while x<6:\n",
        "     if x==1:\n",
        "         print(\"*****\")\n",
        "     elif x==2:\n",
        "         print(\"*   *\")\n",
        "     elif x==3:\n",
        "         print(\"*****\")\n",
        "     elif x==4:\n",
        "         print(\"*    \")\n",
        "     elif x==5:\n",
        "         print(\"*    \")\n",
        "     x=x+1"
      ],
      "execution_count": 120,
      "outputs": [
        {
          "output_type": "stream",
          "text": [
            "*****\n",
            "*   *\n",
            "*****\n",
            "*    \n",
            "*    \n"
          ],
          "name": "stdout"
        }
      ]
    },
    {
      "cell_type": "code",
      "metadata": {
        "colab": {
          "base_uri": "https://localhost:8080/"
        },
        "id": "KS8ADuGXLW3q",
        "outputId": "901f9b20-af81-42f0-f228-3cacbfa2df18"
      },
      "source": [
        "x=1\n",
        "while x<6:\n",
        "     if x==1:\n",
        "         print(\" ***  \")\n",
        "     elif x==2: \n",
        "         print(\"*   * \")\n",
        "     elif x==3:\n",
        "         print(\"*  ** \")\n",
        "     elif x==4:\n",
        "         print(\"*   * \")\n",
        "     elif x==5:\n",
        "         print(\" *** *\")\n",
        "     x=x+1"
      ],
      "execution_count": 121,
      "outputs": [
        {
          "output_type": "stream",
          "text": [
            " ***  \n",
            "*   * \n",
            "*  ** \n",
            "*   * \n",
            " *** *\n"
          ],
          "name": "stdout"
        }
      ]
    },
    {
      "cell_type": "code",
      "metadata": {
        "colab": {
          "base_uri": "https://localhost:8080/"
        },
        "id": "AEgJBi89MICZ",
        "outputId": "4102e6e6-d5be-42fb-fccf-ee714e0ac125"
      },
      "source": [
        "x=1\n",
        "while x<6:\n",
        "     if x==1:\n",
        "         print(\"*****\")\n",
        "     elif x==2:\n",
        "         print(\"*   *\")\n",
        "     elif x==3:\n",
        "         print(\"*****\")\n",
        "     elif x==4:\n",
        "         print(\"* *  \")\n",
        "     elif x==5:\n",
        "         print(\"*   *\")\n",
        "     x=x+1"
      ],
      "execution_count": 123,
      "outputs": [
        {
          "output_type": "stream",
          "text": [
            "*****\n",
            "*   *\n",
            "*****\n",
            "* *  \n",
            "*   *\n"
          ],
          "name": "stdout"
        }
      ]
    },
    {
      "cell_type": "code",
      "metadata": {
        "colab": {
          "base_uri": "https://localhost:8080/"
        },
        "id": "w0i0D0l9MtWZ",
        "outputId": "1a7411ee-ef96-4a08-d78f-83015a78e10b"
      },
      "source": [
        "x=1\n",
        "while x<6:\n",
        "     if x==1:\n",
        "         print(\"*****\")\n",
        "     elif x==2:\n",
        "         print(\"*    \")\n",
        "     elif x==3:\n",
        "         print(\"*****\")\n",
        "     elif x==4:\n",
        "         print(\"    *\")\n",
        "     elif x==5:\n",
        "         print(\"*****\")\n",
        "     x=x+1"
      ],
      "execution_count": 124,
      "outputs": [
        {
          "output_type": "stream",
          "text": [
            "*****\n",
            "*    \n",
            "*****\n",
            "    *\n",
            "*****\n"
          ],
          "name": "stdout"
        }
      ]
    },
    {
      "cell_type": "code",
      "metadata": {
        "colab": {
          "base_uri": "https://localhost:8080/"
        },
        "id": "1jO1ABV_M0LZ",
        "outputId": "fb95851f-85e8-485d-a084-b6c203b6b73f"
      },
      "source": [
        "x=1\n",
        "while x<6:\n",
        "     if x==1:\n",
        "         print(\"*****\")\n",
        "     elif x==2:\n",
        "         print(\"  *  \")\n",
        "     elif x==3:\n",
        "         print(\"  *  \")\n",
        "     elif x==4:\n",
        "         print(\"  *  \")\n",
        "     elif x==5:\n",
        "         print(\"  *  \")\n",
        "     x=x+1"
      ],
      "execution_count": 64,
      "outputs": [
        {
          "output_type": "stream",
          "text": [
            "*****\n",
            "  *  \n",
            "  *  \n",
            "  *  \n",
            "  *  \n"
          ],
          "name": "stdout"
        }
      ]
    },
    {
      "cell_type": "code",
      "metadata": {
        "colab": {
          "base_uri": "https://localhost:8080/"
        },
        "id": "QdJ5utOBRux4",
        "outputId": "b1b0f7a0-1da7-4c6e-b068-ae598ae462f2"
      },
      "source": [
        "x=1\n",
        "while x<6:\n",
        "     if x==1:\n",
        "         print(\"*   *\")\n",
        "     elif x==2: \n",
        "         print(\"*   *\")\n",
        "     elif x==3:\n",
        "         print(\"*   *\")\n",
        "     elif x==4:\n",
        "         print(\"*   *\")\n",
        "     elif x==5:\n",
        "         print(\"*****\")\n",
        "     x=x+1"
      ],
      "execution_count": 66,
      "outputs": [
        {
          "output_type": "stream",
          "text": [
            "*   *\n",
            "*   *\n",
            "*   *\n",
            "*   *\n",
            "*****\n"
          ],
          "name": "stdout"
        }
      ]
    },
    {
      "cell_type": "code",
      "metadata": {
        "colab": {
          "base_uri": "https://localhost:8080/"
        },
        "id": "j3C7hpITR-UP",
        "outputId": "1feda7d3-1129-42d9-adb3-bc560ad862b4"
      },
      "source": [
        "x=1\n",
        "while x<6:\n",
        "     if x==1: \n",
        "         print(\"*   *\")\n",
        "     elif x==2: \n",
        "         print(\"*   *\")\n",
        "     elif x==3:\n",
        "         print(\"*   *\")\n",
        "     elif x==4:\n",
        "         print(\" * * \")\n",
        "     elif x==5: \n",
        "         print(\"  *  \")\n",
        "     x=x+1"
      ],
      "execution_count": 131,
      "outputs": [
        {
          "output_type": "stream",
          "text": [
            "*   *\n",
            "*   *\n",
            "*   *\n",
            " * * \n",
            "  *  \n"
          ],
          "name": "stdout"
        }
      ]
    },
    {
      "cell_type": "code",
      "metadata": {
        "colab": {
          "base_uri": "https://localhost:8080/"
        },
        "id": "R8wyKWp5SP4V",
        "outputId": "f5ba9c47-f515-4778-c2c1-d9be59ae7a38"
      },
      "source": [
        "x=1\n",
        "while x<6:\n",
        "     if x==1:\n",
        "         print(\"*   *\")\n",
        "     elif x==2: \n",
        "         print(\"*   *\")\n",
        "     elif x==3:\n",
        "         print(\"*   *\")\n",
        "     elif x==4:\n",
        "         print(\"* * *\")\n",
        "     elif x==5:\n",
        "         print(\"*   *\")\n",
        "     x=x+1"
      ],
      "execution_count": 130,
      "outputs": [
        {
          "output_type": "stream",
          "text": [
            "*   *\n",
            "*   *\n",
            "*   *\n",
            "* * *\n",
            "*   *\n"
          ],
          "name": "stdout"
        }
      ]
    },
    {
      "cell_type": "code",
      "metadata": {
        "colab": {
          "base_uri": "https://localhost:8080/"
        },
        "id": "V3EeuP61S8ZN",
        "outputId": "d516f705-b4fe-4e49-99fb-1d4846776156"
      },
      "source": [
        "x=1\n",
        "while x<6:\n",
        "     if x==1:\n",
        "         print(\"*   *\")\n",
        "     elif x==2: \n",
        "         print(\" * * \")\n",
        "     elif x==3:\n",
        "         print(\"  *  \")\n",
        "     elif x==4:\n",
        "         print(\" * * \")\n",
        "     elif x==5:\n",
        "         print(\"*   *\")\n",
        "     x=x+1"
      ],
      "execution_count": 91,
      "outputs": [
        {
          "output_type": "stream",
          "text": [
            "*   *\n",
            " * * \n",
            "  *  \n",
            " * * \n",
            "*   *\n"
          ],
          "name": "stdout"
        }
      ]
    },
    {
      "cell_type": "code",
      "metadata": {
        "colab": {
          "base_uri": "https://localhost:8080/"
        },
        "id": "Ge4UgenzTRIw",
        "outputId": "6a8ff0bb-6530-4a32-99ac-887e0e871a82"
      },
      "source": [
        "x=1\n",
        "while x<6:\n",
        "     if x==1:\n",
        "         print(\"*   *\")\n",
        "     elif x==2: \n",
        "         print(\"*   *\")\n",
        "     elif x==3:\n",
        "         print(\" * *\")\n",
        "     elif x==4:\n",
        "         print(\"  *  \")\n",
        "     elif x==5:\n",
        "         print(\"  *  \")\n",
        "     x=x+1"
      ],
      "execution_count": 92,
      "outputs": [
        {
          "output_type": "stream",
          "text": [
            "*   *\n",
            "*   *\n",
            " * *\n",
            "  *  \n",
            "  *  \n"
          ],
          "name": "stdout"
        }
      ]
    },
    {
      "cell_type": "code",
      "metadata": {
        "colab": {
          "base_uri": "https://localhost:8080/"
        },
        "id": "hgTnkrX2Tp4F",
        "outputId": "73c8084a-eaf5-4ace-91c3-4e6f5936f720"
      },
      "source": [
        "x=1\n",
        "while x<6:\n",
        "     if x==1:\n",
        "         print(\"*****\")\n",
        "     elif x==2: \n",
        "         print(\"   * \")\n",
        "     elif x==3:\n",
        "         print(\"  *  \")\n",
        "     elif x==4:\n",
        "         print(\" *   \")\n",
        "     elif x==5:\n",
        "         print(\"*****\")\n",
        "     x=x+1"
      ],
      "execution_count": 95,
      "outputs": [
        {
          "output_type": "stream",
          "text": [
            "*****\n",
            "   * \n",
            "  *  \n",
            " *   \n",
            "*****\n"
          ],
          "name": "stdout"
        }
      ]
    },
    {
      "cell_type": "code",
      "metadata": {
        "id": "UhURTT0BT1Bu"
      },
      "source": [
        ""
      ],
      "execution_count": null,
      "outputs": []
    }
  ]
}