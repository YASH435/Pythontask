{
  "nbformat": 4,
  "nbformat_minor": 0,
  "metadata": {
    "colab": {
      "name": "task#2.ipynb",
      "provenance": [],
      "collapsed_sections": []
    },
    "kernelspec": {
      "name": "python3",
      "display_name": "Python 3"
    },
    "language_info": {
      "name": "python"
    }
  },
  "cells": [
    {
      "cell_type": "code",
      "metadata": {
        "colab": {
          "base_uri": "https://localhost:8080/"
        },
        "id": "Tut-Aw4lwMuw",
        "outputId": "7d7ffcf0-f6ac-4bb2-c7ff-5b848118ab8b"
      },
      "source": [
        "# 1 PROGRAM\n",
        "m= input(\"enter a word :\")\n",
        "l=len(m)\n",
        "if l>=5:\n",
        "     y=m[:2]+m.replace(m,\"\")+m[-2:]\n",
        "     print(y)\n",
        "elif l<3:\n",
        "    y=m*2\n",
        "    print(y)\n",
        "elif l==1:\n",
        "    print(\"Empty String\")   \n",
        "      "
      ],
      "execution_count": 15,
      "outputs": [
        {
          "output_type": "stream",
          "text": [
            "enter a word :smartcoder\n",
            "smer\n"
          ],
          "name": "stdout"
        }
      ]
    },
    {
      "cell_type": "code",
      "metadata": {
        "id": "gCYBjxHiCpue",
        "colab": {
          "base_uri": "https://localhost:8080/"
        },
        "outputId": "0d77088b-49ab-4ef3-8ba6-35b139f09f1f"
      },
      "source": [
        "# 2 PROGRAM\n",
        "x=input(\"enter a word:\")\n",
        "n=x[:1]\n",
        "y=x[1:].replace(n,\"@\")\n",
        "print(x[0]+y)\n"
      ],
      "execution_count": 22,
      "outputs": [
        {
          "output_type": "stream",
          "text": [
            "enter a word:aaaaaaaaaaaaaaaaaaaaaaaaaa\n",
            "a@@@@@@@@@@@@@@@@@@@@@@@@@\n"
          ],
          "name": "stdout"
        }
      ]
    },
    {
      "cell_type": "code",
      "metadata": {
        "id": "DGL8VxO3CpyN",
        "colab": {
          "base_uri": "https://localhost:8080/"
        },
        "outputId": "54cb74fe-67dc-41c9-cbae-37d49d1f7c15"
      },
      "source": [
        "# 3 PROGRAM\n",
        "verb=input(\"enter a verb:\")\n",
        "n=len(verb)\n",
        "if n==4:\n",
        "    print(verb+\"ing\")\n",
        "elif verb[-3:]==\"ing\":\n",
        "    print(verb.replace(\"ing\",\"ly\"))\n",
        "elif n<3:\n",
        "    print(verb)   "
      ],
      "execution_count": 31,
      "outputs": [
        {
          "output_type": "stream",
          "text": [
            "enter a verb:sing\n",
            "singing\n"
          ],
          "name": "stdout"
        }
      ]
    },
    {
      "cell_type": "code",
      "metadata": {
        "colab": {
          "base_uri": "https://localhost:8080/"
        },
        "id": "fRHZ3KtyCqNa",
        "outputId": "9dbcdd9a-c4c5-4ad2-ace7-135a3153c589"
      },
      "source": [
        "# 4 PROGRAM\n",
        "filename=input(\"enter:\")\n",
        "z=filename.split(\".\")\n",
        "print(z[1:])"
      ],
      "execution_count": 1,
      "outputs": [
        {
          "output_type": "stream",
          "text": [
            "enter:rgb.python\n",
            "['python']\n"
          ],
          "name": "stdout"
        }
      ]
    },
    {
      "cell_type": "code",
      "metadata": {
        "colab": {
          "base_uri": "https://localhost:8080/"
        },
        "id": "0TIwYgI5CqS1",
        "outputId": "e42d566c-138c-4eb7-c29e-0166bb2e2a43"
      },
      "source": [
        "# 5 PROGRAM\n",
        "x=\"32.054,23\"\n",
        "y=x[0:3].replace(\".\",\",\")+x[3:7].replace(\",\",\".\")+x[-2:]\n",
        "print(y)"
      ],
      "execution_count": 36,
      "outputs": [
        {
          "output_type": "stream",
          "text": [
            "32,054.23\n"
          ],
          "name": "stdout"
        }
      ]
    },
    {
      "cell_type": "code",
      "metadata": {
        "colab": {
          "base_uri": "https://localhost:8080/"
        },
        "id": "Zr3IOm1DHgNE",
        "outputId": "9704887c-de0c-472c-fccd-d17638c310db"
      },
      "source": [
        "# 6 PROGRAM\n",
        "x = \"yash\"[::-1]\n",
        "print(x)"
      ],
      "execution_count": null,
      "outputs": [
        {
          "output_type": "stream",
          "text": [
            "hsay\n"
          ],
          "name": "stdout"
        }
      ]
    },
    {
      "cell_type": "code",
      "metadata": {
        "id": "9ERH52XuNzMU",
        "colab": {
          "base_uri": "https://localhost:8080/"
        },
        "outputId": "f4a7976c-7fca-4394-9c87-e560baa59e25"
      },
      "source": [
        "# 7 PROGRAM\n",
        "first=int(input(\"enter a value:\"))\n",
        "second=int(input(\"enter a value:\"))\n",
        "multiply=first*second\n",
        "print(multiply)"
      ],
      "execution_count": 37,
      "outputs": [
        {
          "output_type": "stream",
          "text": [
            "enter a value:10\n",
            "enter a value:15\n",
            "150\n"
          ],
          "name": "stdout"
        }
      ]
    },
    {
      "cell_type": "code",
      "metadata": {
        "colab": {
          "base_uri": "https://localhost:8080/"
        },
        "id": "yXd-gRaN62Rg",
        "outputId": "79967685-12e1-41c0-d704-517d25422389"
      },
      "source": [
        "# 8 PROGRAM\n",
        "x=\"a-b-c\" \n",
        "nxt=x.split(\"-\")\n",
        "print(nxt[0])\n",
        "print(nxt[1])\n",
        "print(nxt[2])\n"
      ],
      "execution_count": 55,
      "outputs": [
        {
          "output_type": "stream",
          "text": [
            "a\n",
            "b\n",
            "c\n"
          ],
          "name": "stdout"
        }
      ]
    },
    {
      "cell_type": "code",
      "metadata": {
        "colab": {
          "base_uri": "https://localhost:8080/"
        },
        "id": "6Wgq0ECx9ra9",
        "outputId": "28e6795a-1963-48db-9968-dce4bfbf1416"
      },
      "source": [
        "# 9 PROGRAM\n",
        "x=10\n",
        "while x>5:\n",
        "        y=float(input(\"enter a word:\"))\n",
        "        print(x)\n",
        "        x=x-1 "
      ],
      "execution_count": 66,
      "outputs": [
        {
          "output_type": "stream",
          "text": [
            "enter a word:10\n",
            "10\n",
            "enter a word:11\n",
            "9\n",
            "enter a word:11\n",
            "8\n",
            "enter a word:10\n",
            "7\n",
            "enter a word:156\n",
            "6\n"
          ],
          "name": "stdout"
        }
      ]
    },
    {
      "cell_type": "code",
      "metadata": {
        "colab": {
          "base_uri": "https://localhost:8080/"
        },
        "id": "SGYP4wSy_aS6",
        "outputId": "4f366b24-3dad-447e-e5ac-72cedd740194"
      },
      "source": [
        "# 10 PROGRAM\n",
        "data=input(\"enter:\")\n",
        "if type(data)==str:\n",
        "     print(\"data type is string\")\n"
      ],
      "execution_count": 70,
      "outputs": [
        {
          "output_type": "stream",
          "text": [
            "enter:I love Programming\n",
            "data type is string\n"
          ],
          "name": "stdout"
        }
      ]
    },
    {
      "cell_type": "code",
      "metadata": {
        "id": "iG3m6bcpBV8_"
      },
      "source": [
        ""
      ],
      "execution_count": null,
      "outputs": []
    }
  ]
}