{
  "nbformat": 4,
  "nbformat_minor": 0,
  "metadata": {
    "colab": {
      "name": "task2 que8.ipynb",
      "provenance": [],
      "collapsed_sections": []
    },
    "kernelspec": {
      "name": "python3",
      "display_name": "Python 3"
    },
    "language_info": {
      "name": "python"
    }
  },
  "cells": [
    {
      "cell_type": "code",
      "metadata": {
        "id": "oDBiwIW2XR3O"
      },
      "source": [
        "# Split a given string on hyphens into several substrings and display each substring\n",
        "name=\"a-b-c\"\n",
        "y=name.split(\"-\")\n",
        "j=len(y)#3\n",
        "while j < 6:\n",
        "    j=j-1#2\n",
        "    print(name[j-2:j-1]+ \"\\n\"+name[j:j+1]+\"\\n\"+name[j+2:j+3])\n",
        "    break"
      ],
      "execution_count": null,
      "outputs": []
    }
  ]
}