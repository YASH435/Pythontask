{
  "nbformat": 4,
  "nbformat_minor": 0,
  "metadata": {
    "colab": {
      "name": "task 3.ipynb",
      "provenance": []
    },
    "kernelspec": {
      "name": "python3",
      "display_name": "Python 3"
    },
    "language_info": {
      "name": "python"
    }
  },
  "cells": [
    {
      "cell_type": "code",
      "metadata": {
        "colab": {
          "base_uri": "https://localhost:8080/"
        },
        "id": "pEOdgBXOc4iH",
        "outputId": "52356af6-86dd-4339-ca92-4abcdfad740e"
      },
      "source": [
        "#  1 Create a program that converts feet to metered or meters to feet. Then rounds it on two decimal numbers\n",
        "\n",
        "print(\"Conversion of Meter to Foot type \\'M\\' \\nConversion of Foot to Meter type\\'F\\'\")\n",
        "val=(input(\"Enter a word:\"))\n",
        "if val==\"M\"or val==\"m\":\n",
        "    meter=float(input(\"enter the meter value:\"))\n",
        "    print(\"The value of \",meter,\"meter is\",meter*3.28084,\"foot\")\n",
        "elif val==\"F\" or val==\"f\":\n",
        "    foot=float(input(\"enter the foot value:\"))\n",
        "    print(\"The value of \",foot ,\"foot is\",foot/3.28084,\"meter\")"
      ],
      "execution_count": null,
      "outputs": [
        {
          "output_type": "stream",
          "text": [
            "Conversion of Meter to Foot type 'M' \n",
            "Conversion of Foot to Meter type'F'\n",
            "Enter a word:m\n",
            "enter the meter value:334\n",
            "The value of  334.0 meter is 1095.80056 foot\n"
          ],
          "name": "stdout"
        }
      ]
    },
    {
      "cell_type": "code",
      "metadata": {
        "id": "tYD65G8dMuE1",
        "colab": {
          "base_uri": "https://localhost:8080/"
        },
        "outputId": "9ade7b82-a8b6-43d9-c2c5-f4b7a8684b95"
      },
      "source": [
        "#  2 Create a program that creates a rectangle of the input character with “a” \n",
        "# site input length and “b” site input wide\n",
        " \n",
        "a=int(input(\"enter a number :\"))\n",
        "b=int(input(\"enter a number :\"))\n",
        "for i in range(0,a):\n",
        "    print(\".\",end=\"  \")\n",
        "print()\n",
        "for j in range(0,b):\n",
        "    print(\".\",end=\" \")\n",
        "    print(\" \"*a,\"    .\")\n",
        "for k in range(0,a):\n",
        "    print(\".\",end=\"  \")  \n"
      ],
      "execution_count": 1,
      "outputs": [
        {
          "output_type": "stream",
          "text": [
            "enter a number :5\n",
            "enter a number :6\n",
            ".  .  .  .  .  \n",
            ".           .\n",
            ".           .\n",
            ".           .\n",
            ".           .\n",
            ".           .\n",
            ".           .\n",
            ".  .  .  .  .  "
          ],
          "name": "stdout"
        }
      ]
    },
    {
      "cell_type": "code",
      "metadata": {
        "id": "ELnH1ugmev63",
        "colab": {
          "base_uri": "https://localhost:8080/"
        },
        "outputId": "daafd25f-e441-42bf-8f96-d11a1bbab906"
      },
      "source": [
        "# 3 Create a program that finds out if a heights of the inputs people are correctly lined up.\n",
        "# The program ends when you get an empty input\n",
        "\n",
        "i=1\n",
        "while(i<10):\n",
        "  j=input(f\"enter the height {i}:\")\n",
        "  if(j==\"\"):\n",
        "    print(\"all are correctly lined up  \")\n",
        "    break\n",
        "  "
      ],
      "execution_count": 2,
      "outputs": [
        {
          "output_type": "stream",
          "text": [
            "enter the height 1:134\n",
            "enter the height 1:345\n",
            "enter the height 1:234\n",
            "enter the height 1:\n",
            "all are correctly lined up  \n"
          ],
          "name": "stdout"
        }
      ]
    },
    {
      "cell_type": "code",
      "metadata": {
        "colab": {
          "base_uri": "https://localhost:8080/"
        },
        "id": "pkDbtikbclOt",
        "outputId": "0b8d284c-e173-40bb-bea0-64cafedb22d2"
      },
      "source": [
        "# 4 Create a program that calculates the hypotenuse of a right angled triangle (Dynamic)\n",
        "\n",
        "hypo = lambda x,y: (x**2+y**2)**0.5\n",
        "hypo(3,4)"
      ],
      "execution_count": null,
      "outputs": [
        {
          "output_type": "execute_result",
          "data": {
            "text/plain": [
              "5.0"
            ]
          },
          "metadata": {
            "tags": []
          },
          "execution_count": 10
        }
      ]
    },
    {
      "cell_type": "code",
      "metadata": {
        "colab": {
          "base_uri": "https://localhost:8080/"
        },
        "id": "jD3TQodzcfg0",
        "outputId": "ed4f3c82-d19a-4133-9b8d-59fe80de9726"
      },
      "source": [
        "# 5 create a program that creates a triangle from the input word.\n",
        "# iN the first line there is the first character one time, \n",
        "# in the second line second character two timed etc.\n",
        "\n",
        "\n",
        "x=input(\"enter the value: \")\n",
        "j=1\n",
        "for i in x:\n",
        "    print(i*j)\n",
        "    j=j+1"
      ],
      "execution_count": null,
      "outputs": [
        {
          "output_type": "stream",
          "text": [
            "enter the value: yash \n",
            "y\n",
            "aa\n",
            "sss\n",
            "hhhh\n",
            "     \n"
          ],
          "name": "stdout"
        }
      ]
    },
    {
      "cell_type": "code",
      "metadata": {
        "id": "iOeyeKt-U1kD",
        "colab": {
          "base_uri": "https://localhost:8080/"
        },
        "outputId": "74f9d648-2afe-4c01-e479-d07ff820eb0f"
      },
      "source": [
        "# 6 Write a program that creates a pyramid from any character.\n",
        "\n",
        "\n",
        "x=int(input(\"enter the value\"))\n",
        "j=1\n",
        "for i in range(x,0,-1):\n",
        "    print(i*\" \",end=\"\")\n",
        "    print(j*\"*\")\n",
        "    j=j+2"
      ],
      "execution_count": null,
      "outputs": [
        {
          "output_type": "stream",
          "text": [
            "enter the value7\n",
            "       *\n",
            "      ***\n",
            "     *****\n",
            "    *******\n",
            "   *********\n",
            "  ***********\n",
            " *************\n"
          ],
          "name": "stdout"
        }
      ]
    }
  ]
}